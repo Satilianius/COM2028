{
  "nbformat": 4,
  "nbformat_minor": 0,
  "metadata": {
    "colab": {
      "name": "Coursework",
      "provenance": [],
      "collapsed_sections": []
    },
    "kernelspec": {
      "name": "python3",
      "display_name": "Python 3"
    }
  },
  "cells": [
    {
      "cell_type": "markdown",
      "metadata": {
        "id": "vKi8B4eCl5No",
        "colab_type": "text"
      },
      "source": [
        "# Preparations\n"
      ]
    },
    {
      "cell_type": "code",
      "metadata": {
        "id": "StPwinrTvMjL",
        "colab_type": "code",
        "colab": {}
      },
      "source": [
        "#!rm -r data"
      ],
      "execution_count": 0,
      "outputs": []
    },
    {
      "cell_type": "code",
      "metadata": {
        "id": "Y_m0SsaryBj4",
        "colab_type": "code",
        "colab": {}
      },
      "source": [
        "import os\n",
        "import io\n",
        "import pickle\n",
        "import requests\n",
        "import zipfile\n",
        "from pathlib import Path\n",
        "import numpy as np\n",
        "\n",
        "from PIL import Image\n",
        "from scipy import ndimage\n",
        "from imageio import imread, imsave\n",
        "from skimage import img_as_float, color, exposure\n",
        "from skimage.transform import resize\n",
        "from skimage.feature import peak_local_max, hog\n",
        "from skimage.segmentation import clear_border\n",
        "from skimage.morphology import label\n",
        "from skimage.measure import regionprops\n",
        "\n",
        "from sklearn import neighbors\n",
        "from sklearn import linear_model\n",
        "from sklearn.svm import SVC\n",
        "from sklearn.svm import LinearSVC\n",
        "from sklearn.metrics import plot_confusion_matrix\n",
        "from sklearn.metrics import accuracy_score\n",
        "from sklearn.model_selection import cross_val_score\n",
        "from sklearn.model_selection import train_test_split\n",
        "\n",
        "\n",
        "import matplotlib.cm as cm\n",
        "import matplotlib.pyplot as plt\n",
        "import matplotlib.patches as mpatches\n",
        "\n",
        "%matplotlib inline"
      ],
      "execution_count": 0,
      "outputs": []
    },
    {
      "cell_type": "markdown",
      "metadata": {
        "id": "lRYYTIcImHCa",
        "colab_type": "text"
      },
      "source": [
        "## Character extraction\n",
        "\n",
        "Functions related to character extraction from an image of a page of text"
      ]
    },
    {
      "cell_type": "code",
      "metadata": {
        "id": "GKfSQHPebodr",
        "colab_type": "code",
        "colab": {}
      },
      "source": [
        "# read file with the image and convert it to binary image -\n",
        "# ndarray with 1.0 and 0.0\n",
        "def get_binary_image(path_to_image):\n",
        "  image = Image.open(path_to_image).convert('L')\n",
        "  image = np.asarray(image, )\n",
        "\n",
        "  #apply threshold in order to make the image binary\n",
        "  bw = (image < 120).astype(np.float)\n",
        "\n",
        "  return bw"
      ],
      "execution_count": 0,
      "outputs": []
    },
    {
      "cell_type": "code",
      "metadata": {
        "id": "6Tv2lup4igC8",
        "colab_type": "code",
        "colab": {}
      },
      "source": [
        "# Returns the list of bboxes from the image.\n",
        "# Image should be an np 2D array of 0.0 and 1.0\n",
        "# bbox is a tuple (minr, minc, maxr, maxc) where first 2 elements\n",
        "# are coordinates of top left corner of a character and the last 2 elements\n",
        "# are coordinates of bottom right corner of a character.\n",
        "def get_bboxes(binary_image):\n",
        "  print(\"getting bboxes from image\")\n",
        "  bboxes = []\n",
        "\n",
        "  # remove artifacts connected to image border\n",
        "  cleared = binary_image.copy()\n",
        "  clear_border(cleared)\n",
        "\n",
        "  # label image regions\n",
        "  label_image = label(cleared,neighbors=8)\n",
        "  borders = np.logical_xor(binary_image, cleared)\n",
        "  label_image[borders] = -1\n",
        "\n",
        "  for region in regionprops(label_image):\n",
        "    minr, minc, maxr, maxc = region.bbox\n",
        "    # Skip small regions\n",
        "    if maxr - minr > len(binary_image) / 250:  # better to use height rather than area.\n",
        "      bboxes.append((minr, minc, maxr, maxc))\n",
        "  return bboxes\n"
      ],
      "execution_count": 0,
      "outputs": []
    },
    {
      "cell_type": "code",
      "metadata": {
        "id": "ktRoh2w-AqOT",
        "colab_type": "code",
        "colab": {}
      },
      "source": [
        "def enlarge_bboxes(bboxes, enlarge_coef):\n",
        "  enlarged_bboxes = []\n",
        "  for bbox in bboxes:\n",
        "    minr, minc, maxr, maxc = bbox\n",
        "    height = maxr - minr\n",
        "    h_extension = (int)(height * enlarge_coef)\n",
        "    enlarged_bbox = (minr - h_extension, minc, maxr, maxc)\n",
        "    enlarged_bboxes.append(enlarged_bbox)\n",
        "  return enlarged_bboxes"
      ],
      "execution_count": 0,
      "outputs": []
    },
    {
      "cell_type": "code",
      "metadata": {
        "id": "Y_IJoNtCdKlO",
        "colab_type": "code",
        "colab": {}
      },
      "source": [
        "# Sorts the bboxes left->right, top->bottom and returns 2d array of bboxes\n",
        "def sort_bboxes(bboxes):\n",
        "  print(\"sorting bboxes\")\n",
        "  lines = list()\n",
        "  first_in_line = ''\n",
        "  counter = 0\n",
        "\n",
        "  # worst case scenario there can be 1 character per line\n",
        "  for x in range(len(bboxes)):\n",
        "      lines.append([])\n",
        "\n",
        "  for character in bboxes:\n",
        "      if first_in_line == '':\n",
        "          first_in_line = character\n",
        "          lines[counter].append(character)\n",
        "      elif abs(character[0] - first_in_line[0]) < (first_in_line[2] - first_in_line[0]):\n",
        "          lines[counter].append(character)\n",
        "      elif abs(character[0] - first_in_line[0]) > (first_in_line[2] - first_in_line[0]):\n",
        "          first_in_line = character\n",
        "          counter += 1\n",
        "          lines[counter].append(character)\n",
        "\n",
        "  for x in range(len(lines)):\n",
        "    lines[x].sort(key=lambda tup: tup[1])\n",
        "\n",
        "  return lines"
      ],
      "execution_count": 0,
      "outputs": []
    },
    {
      "cell_type": "code",
      "metadata": {
        "id": "68_ho4AMfQm7",
        "colab_type": "code",
        "colab": {}
      },
      "source": [
        "def get_images_from_bboxes(bw, lines):\n",
        "  print(\"getting images from bboxes\")\n",
        "  # tl - top left,\n",
        "  # tr - top right,\n",
        "  # bl - bottom left,\n",
        "  # br - bottom right\n",
        "  final = list()\n",
        "  tr_prev = 0\n",
        "  prev_line_br = 0\n",
        "\n",
        "  for line_index in range(len(lines)):\n",
        "      for char_index in range(len(lines[line_index])):\n",
        "          tl_next = lines[line_index][char_index][1]\n",
        "          bl_next = lines[line_index][char_index][0]\n",
        "          # if next bbox does not intersect with the previous one\n",
        "          # and\n",
        "          if tl_next > tr_prev and bl_next > prev_line_br:\n",
        "              # Get coordinates of a current char\n",
        "              tl, tr, bl, br = lines[line_index][char_index]\n",
        "              # Extract image \n",
        "              letter_raw = bw[tl:bl, tr:br]\n",
        "              # Resize it\n",
        "              letter_norm = resize(letter_raw, (20, 20))\n",
        "              # Add to the output\n",
        "              final.append(letter_norm)\n",
        "              # Update the previous right line value\n",
        "              tr_prev = lines[line_index][char_index][3]\n",
        "          # if it was last char in a row\n",
        "          if char_index == (len(lines[line_index]) - 1):\n",
        "              # set prev_line_br to the bottom left pixel of the last char\n",
        "              prev_line_br = lines[line_index][char_index][2]\n",
        "      tr_prev = 0\n",
        "      tl_next = 0\n",
        "  return final"
      ],
      "execution_count": 0,
      "outputs": []
    },
    {
      "cell_type": "code",
      "metadata": {
        "id": "CydwgpPPCCWb",
        "colab_type": "code",
        "colab": {}
      },
      "source": [
        "# Shows character borders on the image\n",
        "def show_bboxes(path_to_image):\n",
        "  bw = get_binary_image(path_to_image=path_to_image)\n",
        "\n",
        "  fig, ax = plt.subplots(ncols=1, nrows=1, figsize=(32, 32))\n",
        "  ax.imshow(bw, cmap='jet')\n",
        "\n",
        "  bboxes = get_bboxes(bw)\n",
        "  \n",
        "  for minr, minc, maxr, maxc in bboxes:\n",
        "    height = maxr - minr\n",
        "    width = maxc - minc\n",
        "    rect = mpatches.Rectangle((minc, minr), width, height,\n",
        "                                    fill=False, edgecolor='red', linewidth=1)\n",
        "    ax.add_patch(rect)\n",
        "\n",
        "  plt.show()"
      ],
      "execution_count": 0,
      "outputs": []
    },
    {
      "cell_type": "code",
      "metadata": {
        "id": "36cfj19n59OS",
        "colab_type": "code",
        "colab": {}
      },
      "source": [
        "# Draws already existing bboxes on the image\n",
        "def show_bboxes2(bw, lines):\n",
        "  fig, ax = plt.subplots(ncols=1, nrows=1, figsize=(32, 32))\n",
        "  ax.imshow(bw, cmap='jet')\n",
        "\n",
        "  for line in lines:\n",
        "    line_length = len(line)\n",
        "    for minr, minc, maxr, maxc in line:\n",
        "      rect = mpatches.Rectangle((minc, minr), maxc - minc, maxr - minr,\n",
        "                                    fill=False, edgecolor='red', linewidth=1)\n",
        "      ax.add_patch(rect)\n",
        "  plt.show()"
      ],
      "execution_count": 0,
      "outputs": []
    },
    {
      "cell_type": "code",
      "metadata": {
        "id": "ALwUrWrHgteF",
        "colab_type": "code",
        "colab": {}
      },
      "source": [
        "# Returns list of normalised character pictures from image\n",
        "# image_path - path to a file\n",
        "def get_char_images_from_image(image_path):\n",
        "   # Reading the file and converting it into binary image\n",
        "    bw = get_binary_image(image_path)\n",
        "\n",
        "    # Getting bboxes with letters\n",
        "    bboxes = get_bboxes(binary_image=bw)\n",
        "\n",
        "    # Sorting the detected bboxes left->right, top->bottom\n",
        "    lines = sort_bboxes(bboxes)\n",
        "\n",
        "    #show_bboxes2(bw, lines)\n",
        "\n",
        "    # Getting list of actual images of characters, normalised to 20x20\n",
        "    char_images = get_images_from_bboxes(bw, lines)\n",
        "\n",
        "    return char_images"
      ],
      "execution_count": 0,
      "outputs": []
    },
    {
      "cell_type": "markdown",
      "metadata": {
        "id": "DE-XdGWZmlYZ",
        "colab_type": "text"
      },
      "source": [
        "## Dataset creation\n",
        "\n",
        "Functions which related to the sorting of extracted training data by folders"
      ]
    },
    {
      "cell_type": "code",
      "metadata": {
        "id": "aKe6bpwJyWoc",
        "colab_type": "code",
        "colab": {}
      },
      "source": [
        "# Getting the snippets of training characters and putting them\n",
        "# into corresponding folders\n",
        "# training_files - list of pathes to the images with training pages\n",
        "# out_folder - folder where to put classes (with / in the end)\n",
        "# alphabet - repeating string in the training files used for sorting\n",
        "def sort_chars_to_folders(training_files, out_folder, alphabet, enlarge_bboxes_coef=0.0):\n",
        "  if not alphabet:\n",
        "    raise ValueError(\"alphabet should not be empty\")\n",
        "  \n",
        "  \n",
        "  # Fixing windows not allowing to create folders with both low and up case\n",
        "  for character in alphabet:\n",
        "    if character.isupper():\n",
        "      folder_to_create = character + '_'\n",
        "    else:\n",
        "      folder_to_create = character\n",
        "\n",
        "    # Creating folders\n",
        "    Path(out_folder + folder_to_create).mkdir(parents=True, exist_ok=True)\n",
        "\n",
        "  # Prefix to all snippets in all training files\n",
        "  name_counter = 0\n",
        "  for training_file in training_files:\n",
        "    # Reading the file and converting it into binary image\n",
        "    bw = get_binary_image(training_file)\n",
        "\n",
        "    # Getting bboxes with letters\n",
        "    bboxes = get_bboxes(binary_image=bw)\n",
        "\n",
        "    if enlarge_bboxes_coef > 0.0:\n",
        "      # increase height of each bbox to include umlauts\n",
        "      bboxes = enlarge_bboxes(bboxes=bboxes, enlarge_coef=enlarge_bboxes_coef)\n",
        "\n",
        "    # Sorting the detected bboxes left->right, top->bottom\n",
        "    lines = sort_bboxes(bboxes)\n",
        "\n",
        "    # show_bboxes2(bw, lines)\n",
        "\n",
        "    # # potential fix for letter 'Ы'\n",
        "    # # didn't work because other letters were merged together as well\n",
        "    # for line in lines:\n",
        "    #   line_length = len(line)\n",
        "    #   for bbox_id in range(line_length - 1, 0, -1):\n",
        "    #       minr, minc, maxr, maxc = line[bbox_id]\n",
        "    #       minr_prev, minc_prev, maxr_prev, maxc_prev = line[bbox_id-1]\n",
        "    #       # If boxes are too close to each other along the x axis\n",
        "    #       if (minc - maxc_prev) < 9:\n",
        "    #           # Delete the current bbox which is I\n",
        "    #           del line[bbox_id]\n",
        "    #           # And extend the previous bbox\n",
        "    #           line[bbox_id-1] = (minr_prev, minc_prev, maxr_prev, maxc)\n",
        "    #           #bbox_id -= 1\n",
        "\n",
        "    # Getting list of actual images of characters, normalised to 20x20\n",
        "    char_images = get_images_from_bboxes(bw, lines)\n",
        "\n",
        "    # Saving the images to the corresponding folders\n",
        "    string_counter = 0\n",
        "    alphabet_length = len(alphabet)\n",
        "    print(f\"alphabet_length = {alphabet_length}\")\n",
        "\n",
        "    for char_image in char_images:\n",
        "      if string_counter > alphabet_length - 1:\n",
        "        string_counter = 0\n",
        "      # Convert to uint8 before saving to suppress warnings\n",
        "      char_image = (char_image*255).astype(np.uint8)\n",
        "\n",
        "      # Fixing windows not allowing to create folders with both low and up case \n",
        "      folder_to_save = alphabet[string_counter]\n",
        "      if folder_to_save.isupper():\n",
        "        folder_to_save += '_'\n",
        "\n",
        "      imsave(out_folder + folder_to_save + '/' + str(name_counter) + '_snippet.png', char_image)\n",
        "\n",
        "      string_counter += 1\n",
        "      name_counter += 1"
      ],
      "execution_count": 0,
      "outputs": []
    },
    {
      "cell_type": "code",
      "metadata": {
        "id": "6l1WijW9h1HC",
        "colab_type": "code",
        "colab": {}
      },
      "source": [
        "# Save snippets to the zip folder for manual sorting\n",
        "def zipdir(path, ziph):\n",
        "    # ziph is zipfile handle\n",
        "    for root, dirs, files in os.walk(path):\n",
        "        for file in files:\n",
        "          ziph.write(os.path.join(root, file))"
      ],
      "execution_count": 0,
      "outputs": []
    },
    {
      "cell_type": "markdown",
      "metadata": {
        "id": "zlqR0aWbm-7f",
        "colab_type": "text"
      },
      "source": [
        "## Image recognition\n",
        "\n",
        "Code related to the recognition of the characters"
      ]
    },
    {
      "cell_type": "code",
      "metadata": {
        "id": "nq0xEoP8bACw",
        "colab_type": "code",
        "colab": {}
      },
      "source": [
        "# pixels per cell and cells per block were chosen by bruteforsing\n",
        "# all the possible combinations and picking the one giving the best accuracy\n",
        "# for pixels per cell from 2 to 10\n",
        "# for cells per block from 1 to 7\n",
        "def get_hog_features(image):\n",
        "  return hog(image,\n",
        "             orientations=12,\n",
        "             pixels_per_cell=(2, 2),\n",
        "             cells_per_block=(1, 1))"
      ],
      "execution_count": 0,
      "outputs": []
    },
    {
      "cell_type": "code",
      "metadata": {
        "id": "WBNToJNUEsVh",
        "colab_type": "code",
        "colab": {}
      },
      "source": [
        "# Get the training data and labels from folders\n",
        "# training_root - path to a folder with sorted snippet folders.\n",
        "# Requires '/' in the end\n",
        "# returns (data, labels) tuple\n",
        "def get_data_and_labels(training_root):\n",
        "  char_folders = os.listdir(training_root)\n",
        "  data = []\n",
        "  labels = []\n",
        "\n",
        "  for folder in char_folders:\n",
        "    path_to_char_folder = training_root + folder +'/'\n",
        "    char_filenames = sorted([filename for filename in os.listdir(path_to_char_folder) if filename.endswith('.png')])\n",
        "    char_filenames = [path_to_char_folder + filename for filename in char_filenames]\n",
        "\n",
        "    print(f\"found: {len(char_filenames)} snippets in folder {folder}\")\n",
        "\n",
        "    print(f\"adding {folder} to data and labels\")\n",
        "    for filename in char_filenames:\n",
        "        #read the images\n",
        "        image = imread(filename)\n",
        "        #flatten it\n",
        "        hog_features = get_hog_features(image)\n",
        "        data.append(hog_features)\n",
        "        # Add the actual letter name to label not 'A_' for capitals\n",
        "        labels.append(folder[0])\n",
        "\n",
        "    print(f'Finished adding {folder} samples to data and labels')\n",
        "  return (data, labels)"
      ],
      "execution_count": 0,
      "outputs": []
    },
    {
      "cell_type": "code",
      "metadata": {
        "id": "5-dtKQROjPci",
        "colab_type": "code",
        "colab": {}
      },
      "source": [
        "# Returns label associated with the image of a letter using the passed classifier\n",
        "def recognise_letter(letter_image, clf):\n",
        "  hog_features = get_hog_features(letter_image)\n",
        "  result_type = clf.predict(hog_features.reshape(1,-1))\n",
        "  return result_type[0]"
      ],
      "execution_count": 0,
      "outputs": []
    },
    {
      "cell_type": "markdown",
      "metadata": {
        "id": "O4yVy2JbnRQO",
        "colab_type": "text"
      },
      "source": [
        "## Data loading\n",
        "\n",
        "This code loads the data required for the coursework"
      ]
    },
    {
      "cell_type": "code",
      "metadata": {
        "id": "fERSjWJ0IbVz",
        "colab_type": "code",
        "colab": {}
      },
      "source": [
        "# Get data\n",
        "import tarfile\n",
        "\n",
        "r = requests.get('https://github.com/Satilianius/COM2028/raw/master/Classifier/data.tar')\n",
        "with tarfile.open(fileobj=io.BytesIO(r.content), mode=\"r\") as t:\n",
        "  t.extractall(path='/content/')"
      ],
      "execution_count": 0,
      "outputs": []
    },
    {
      "cell_type": "markdown",
      "metadata": {
        "id": "tAtYEoqLa3dy",
        "colab_type": "text"
      },
      "source": [
        "The previous code contains functions, which are used in more than one tasks. Run it and then proceed to the task you need. \n"
      ]
    },
    {
      "cell_type": "markdown",
      "metadata": {
        "id": "bHMU_9-TdiAg",
        "colab_type": "text"
      },
      "source": [
        "# Task 1: Recognising printed letters of multiple languages"
      ]
    },
    {
      "cell_type": "markdown",
      "metadata": {
        "id": "_Sb0UotNn28s",
        "colab_type": "text"
      },
      "source": [
        "## 1.1 Russian language"
      ]
    },
    {
      "cell_type": "markdown",
      "metadata": {
        "id": "yeyjaadkn5wo",
        "colab_type": "text"
      },
      "source": [
        "### 1.1.1 Dataset creation\n",
        "\n",
        "The following code is an unsuccessful attempt to create a training samples automatically from png images of pages of character samples. It used a sample code provided for the coursework, but for the reasons which will be mentioned later didn't quite work - the letter snippets had to be sorted by folders manually in the end. However, the code was helpful in the initial character extraction"
      ]
    },
    {
      "cell_type": "code",
      "metadata": {
        "id": "WPjD8SXToNnK",
        "colab_type": "code",
        "colab": {}
      },
      "source": [
        "# Checking if borders of characters are correctly recognised on a training images\n",
        "show_bboxes('/content/data/task_1/rus/images/training_Page_1.png')\n",
        "show_bboxes('/content/data/task_1/rus/images/training_Page_2.png')\n",
        "show_bboxes('/content/data/task_1/rus/images/training_Page_3.png')\n",
        "show_bboxes('/content/data/task_1/rus/images/training_Page_4.png')"
      ],
      "execution_count": 0,
      "outputs": []
    },
    {
      "cell_type": "markdown",
      "metadata": {
        "id": "I6L_OJm3o79Q",
        "colab_type": "text"
      },
      "source": [
        "The letter 'Ы' is recognised by region separtor as 2 separate regions.\n",
        "The alphabet to pass into sorting function is changed to bypass it - the first region which is similar to 'ь' will go to the according folder and the second region will go to i or I folder.\n",
        "\n",
        "\n",
        "Later, during post-processing if 'i' will be recognised, it will mean that this and the previous character are a part of one letter and replaced by 'Ы'"
      ]
    },
    {
      "cell_type": "code",
      "metadata": {
        "id": "b78mj-tYorrN",
        "colab_type": "code",
        "colab": {}
      },
      "source": [
        "# String of all possible classes\n",
        "rus_chars = \"абвгдеёжзийклмнопрстуфхцчшщъьiьэюяАБВГДЕЁЖЗИЙКЛМНОПРСТУФХЦЧШЩЪЬIЬЭЮЯ\""
      ],
      "execution_count": 0,
      "outputs": []
    },
    {
      "cell_type": "code",
      "metadata": {
        "id": "g9TVvCmF5TU0",
        "colab_type": "code",
        "colab": {}
      },
      "source": [
        "# Filling the folders with character snippets\n",
        "# Will overwrite the existing files\n",
        "\n",
        "out_folder = '/content/data/task_1/rus/training_classes/'\n",
        "training_files = ['/content/data/task_1/rus/images/training_Page_1.png',\n",
        "                  '/content/data/task_1/rus/images/training_Page_2.png',\n",
        "                  '/content/data/task_1/rus/images/training_Page_3.png',\n",
        "                  '/content/data/task_1/rus/images/training_Page_4.png']\n",
        "sort_chars_to_folders (training_files, out_folder, rus_chars, enlarge_bboxes=0.5)"
      ],
      "execution_count": 0,
      "outputs": []
    },
    {
      "cell_type": "markdown",
      "metadata": {
        "id": "w4tJxjtntr1A",
        "colab_type": "text"
      },
      "source": [
        "At this stage the letters are not being properly sorted. So next step is to save them to archive, download it, sort the snippets manually and upload back. The sorted lettres will live in 'training_classes_rus_sorted' folder.\n",
        "\n",
        "Usualy there are two reasons for snippets not being properly sorted:\n",
        "- One letter was recognised as two ('ж' as '>' and '<' in thin fonts)\n",
        "- two regions were recognised as one ('Ы')\n",
        "- character for some reason was just not recognised \n",
        "\n",
        "In any case all the next letters on this page are shifted by 1 when sorted to folders. The next code helps to shift them to the proper position after the first not properly recognised snippet was found."
      ]
    },
    {
      "cell_type": "code",
      "metadata": {
        "id": "iMfxdERbs6I3",
        "colab_type": "code",
        "colab": {}
      },
      "source": [
        "# Gets id of the source class and offset and returns the name of the folder\n",
        "# of destination class. Name includes '_' for uppercase letters\n",
        "\n",
        "def get_dest_folder(source_class_id, offset):\n",
        "  # class - letter without _ for upcase\n",
        "  # folder - folder name with _ for upcase\n",
        "  alphabet = \"абвгдеёжзийклмнопрстуфхцчшщъьiьэюяАБВГДЕЁЖЗИЙКЛМНОПРСТУФХЦЧШЩЪЬIЬЭЮЯ\"\n",
        "\n",
        "  # Get destination class and source class in form with '_' if needed\n",
        "  destination_class_id = source_class_id + offset\n",
        "\n",
        "  # wrap around if offset positive\n",
        "  offset_remainder = destination_class_id - len(alphabet)\n",
        "  if offset_remainder >= 0:\n",
        "    destination_class_id = offset_remainder\n",
        "\n",
        "  # wrap around if offset negative\n",
        "  if destination_class_id < 0:\n",
        "    destination_class_id = len(alphabet) + destination_class_id\n",
        "\n",
        "  destination_folder = folder_alphabet[destination_class_id]\n",
        "\n",
        "  if destination_folder.isupper():\n",
        "    destination_folder += '_'\n",
        "\n",
        "  return destination_folder\n",
        "  \n",
        "\n",
        "# Shifts all snippets starting from the start_snippet_id which located in folder\n",
        "# with source_class_id by offset. last_snippet_id - last snippet to be moved \n",
        "def shift_all_snippets(start_snippet_id, source_class_id, offset, last_snippet_id):\n",
        "  folder_alphabet = \"абвгдеёжзийклмнопрстуфхцчшщъьiьэюяАБВГДЕЁЖЗИЙКЛМНОПРСТУФХЦЧШЩЪЬIЬЭЮЯ\"\n",
        "  root_folder = '/content/data/task_1/rus/training_classes'\n",
        "  snippet_id = start_snippet_id\n",
        "\n",
        "\n",
        "  while snippet_id <= last_snippet_id:\n",
        "    source_class = folder_alphabet[source_class_id]\n",
        "    source_folder = source_class + '_' if source_class.isupper() else source_class\n",
        "    dest_folder = get_dest_folder(source_class_id, offset)\n",
        "    snippet_name = str(snippet_id) + '_snippet.png'\n",
        "    source_file = root_folder + '/' + source_folder + '/' + snippet_name\n",
        "    dest_file =  root_folder + '/' + dest_folder + '/' + snippet_name\n",
        "\n",
        "    print(f\"Shifting: source class id: {source_class_id},\",\\\n",
        "          f\"source_class: {source_class}, \",\\\n",
        "          f\"dest_folder: {dest_folder}, \",\\\n",
        "          f\"source_file: {source_file}, \",\\\n",
        "          f\"dest_file: {dest_file}\")\n",
        "    try:\n",
        "      os.rename(source_file, dest_file)\n",
        "    except FileNotFoundError as e:\n",
        "      print(f'snippet {snippet_name} not found in folder {source_folder}, end of the file reached')\n",
        "      return\n",
        "    source_class_id = 0 if (source_class_id + 1 >= len(folder_alphabet)) else source_class_id + 1 \n",
        "    snippet_id += 1\n",
        "\n",
        "# Not for calling from other functions.\n",
        "# Returns id of letter in alphabet. For 'ь' and 'Ь' returns tuples of ids\n",
        "def get_class_id(class_):\n",
        "  alphabet = \"абвгдеёжзийклмнопрстуфхцчшщъьiьэюяАБВГДЕЁЖЗИЙКЛМНОПРСТУФХЦЧШЩЪЬIЬЭЮЯ\"\n",
        "  if (class_ == 'ь'):\n",
        "    return (28,30)\n",
        "  if class_ == 'Ь':\n",
        "    return (62,64)\n",
        "  return alphabet.index(class_)\n"
      ],
      "execution_count": 0,
      "outputs": []
    },
    {
      "cell_type": "code",
      "metadata": {
        "id": "QQaGgQRH8sD0",
        "colab_type": "code",
        "colab": {}
      },
      "source": [
        "# Get the index of letter in the alphabet string to pass to shift_all_snippets\n",
        "# get_class_id('Э')"
      ],
      "execution_count": 0,
      "outputs": []
    },
    {
      "cell_type": "code",
      "metadata": {
        "id": "i1drNOWT339M",
        "colab_type": "code",
        "colab": {}
      },
      "source": [
        "# After the first snippet being put in a wrong folder was found -\n",
        "# shift all the snippets after it to the corresponding folder by the offset\n",
        "# shift_all_snippets(start_snippet_id=1892, source_class_id=65, offset=1, last_snippet_id=2096)"
      ],
      "execution_count": 0,
      "outputs": []
    },
    {
      "cell_type": "markdown",
      "metadata": {
        "id": "p5Po9IGzDEJg",
        "colab_type": "text"
      },
      "source": [
        "Trying to download folders with snippets I realised that not all the systems properly handle letters as folder names - zipfile just didn't create the folders with some of the capital letters as names. I tried to create them in windows explorer and it complained that the folder with this name is already exist. However there was only folder with lowercase letter as a name. So I had to rename the folders with capitals, adding '_' after the actual letters"
      ]
    },
    {
      "cell_type": "markdown",
      "metadata": {
        "id": "9DSpg3S7ZKB0",
        "colab_type": "text"
      },
      "source": [
        "Another problem was that zipfile does not unzip folders with cyrillic names properly, which resulted in a folders with meaningless symbols as names. After some unsuccessful attempts to find encoding settings in zipfile, I have switched to tar archives. Tarfile module worked better."
      ]
    },
    {
      "cell_type": "code",
      "metadata": {
        "id": "lKGkAJd0lG1V",
        "colab_type": "code",
        "colab": {}
      },
      "source": [
        "# This block can be skipped. Already sorted files are in\n",
        "# '/content/data/task_1/rus/training_classes_rus_sorted'\n",
        "\n",
        "# Uncomment to create an archive of training snippets\n",
        "# zipf = zipfile.ZipFile('/content/data/task_1/rus/training_classes.zip', 'w', zipfile.ZIP_DEFLATED)\n",
        "# zipdir('/content/data/task_1/rus/training_classes', zipf)\n",
        "# zipf.close()"
      ],
      "execution_count": 0,
      "outputs": []
    },
    {
      "cell_type": "markdown",
      "metadata": {
        "id": "3M-frPQVdh71",
        "colab_type": "text"
      },
      "source": [
        "### 1.1.2 Creating and training classifiers\n",
        "\n",
        "After creating a datasets of character snippets, we can finally train the classifiers and let them recognise some text"
      ]
    },
    {
      "cell_type": "code",
      "metadata": {
        "id": "7lRXD7TukAcv",
        "colab_type": "code",
        "outputId": "8452a408-f892-4626-aa69-2849da0e1d24",
        "colab": {
          "base_uri": "https://localhost:8080/",
          "height": 202
        }
      },
      "source": [
        "# Show first 10 letter snippets from the test image to check\n",
        "# that letter extraction works as intended\n",
        "letters = get_char_images_from_image('/content/data/task_1/rus/images/testing.png')\n",
        "# Show letters\n",
        "fig, axes = plt.subplots(ncols=10, nrows=1, figsize=(10, 1))\n",
        "for i in range(0,10):\n",
        "  letter = letters[i]\n",
        "  axes[i].imshow(letter, cmap='Greys')"
      ],
      "execution_count": 0,
      "outputs": [
        {
          "output_type": "stream",
          "text": [
            "getting bboxes from image\n",
            "sorting bboxes\n",
            "getting images from bboxes\n"
          ],
          "name": "stdout"
        },
        {
          "output_type": "stream",
          "text": [
            "/usr/local/lib/python3.6/dist-packages/ipykernel_launcher.py:15: UserWarning: The argument 'neighbors' is deprecated and will be removed in scikit-image 0.18, use 'connectivity' instead. For neighbors=8, use connectivity=2\n",
            "  from ipykernel import kernelapp as app\n"
          ],
          "name": "stderr"
        },
        {
          "output_type": "display_data",
          "data": {
            "image/png": "[encoded data removed]",
            "text/plain": [
              "<Figure size 720x72 with 10 Axes>"
            ]
          },
          "metadata": {
            "tags": [],
            "needs_background": "light"
          }
        }
      ]
    },
    {
      "cell_type": "code",
      "metadata": {
        "id": "OoG3CjttnT7v",
        "colab_type": "code",
        "colab": {}
      },
      "source": [
        "# Recognises the text from an image of a page in Russian using passed classifier\n",
        "\n",
        "# Gets path to an image and trained classifier to use\n",
        "# returns a string with the recognised text\n",
        "def recognise_rus_text(image_path, classifier):\n",
        "  recognised_letters = []\n",
        "\n",
        "  # Get all the letter images from the source image\n",
        "  letters = get_char_images_from_image(image_path)\n",
        "\n",
        "  # Recognise each letter using the passed classifier\n",
        "  for letter in letters:\n",
        "    new_letter = recognise_letter(letter, classifier)\n",
        "\n",
        "    # if it is the second part of the small letter 'ы'\n",
        "    if (new_letter == 'i') and (len(recognised_letters) > 0):\n",
        "      # delete the previous part of the letter\n",
        "      del recognised_letters[-1]\n",
        "      # and append lowercase 'ы' instead\n",
        "      recognised_letters.append('ы')\n",
        "\n",
        "    # if it is the second part of the capital letter 'Ы'\n",
        "    elif (new_letter == 'I') and (len(recognised_letters) > 0):\n",
        "      # delete the previous part of the letter\n",
        "      del recognised_letters[-1]\n",
        "      # and append uppercase 'Ы' instead\n",
        "      recognised_letters.append('Ы')\n",
        "      \n",
        "    else:  \n",
        "      recognised_letters.append(new_letter)\n",
        "\n",
        "  recognised_text = ''.join(recognised_letters)\n",
        "  return recognised_text"
      ],
      "execution_count": 0,
      "outputs": []
    },
    {
      "cell_type": "markdown",
      "metadata": {
        "id": "DJvZiN9zhe1t",
        "colab_type": "text"
      },
      "source": [
        "#### 1.1.2.1 SVM classifier\n",
        "\n",
        "First we will use the dataset where uppercase letters are considered separate classes. \n",
        "\n",
        "This dataset is located in '/content/data/task_1/rus/training_classes_sorted/' folder"
      ]
    },
    {
      "cell_type": "code",
      "metadata": {
        "id": "PkrsEaH5jnJi",
        "colab_type": "code",
        "outputId": "ec75e0d3-6091-41fb-a897-9734bea911e9",
        "colab": {
          "base_uri": "https://localhost:8080/",
          "height": 1000
        }
      },
      "source": [
        "# Get data and labels to train SVM\n",
        "data_up, labels_up = get_data_and_labels('/content/data/task_1/rus/training_classes_sorted/')"
      ],
      "execution_count": 0,
      "outputs": [
        {
          "output_type": "stream",
          "text": [
            "found: 31 snippets in folder п\n",
            "adding п to data and labels\n",
            "Finished adding п samples to data and labels\n",
            "found: 31 snippets in folder ш\n",
            "adding ш to data and labels\n",
            "Finished adding ш samples to data and labels\n",
            "found: 31 snippets in folder Х_\n",
            "adding Х_ to data and labels\n",
            "Finished adding Х_ samples to data and labels\n",
            "found: 31 snippets in folder о\n",
            "adding о to data and labels\n",
            "Finished adding о samples to data and labels\n",
            "found: 31 snippets in folder ч\n",
            "adding ч to data and labels\n",
            "Finished adding ч samples to data and labels\n",
            "found: 30 snippets in folder Д_\n",
            "adding Д_ to data and labels\n",
            "Finished adding Д_ samples to data and labels\n",
            "found: 31 snippets in folder з\n",
            "adding з to data and labels\n",
            "Finished adding з samples to data and labels\n",
            "found: 31 snippets in folder Ц_\n",
            "adding Ц_ to data and labels\n",
            "Finished adding Ц_ samples to data and labels\n",
            "found: 31 snippets in folder Й_\n",
            "adding Й_ to data and labels\n",
            "Finished adding Й_ samples to data and labels\n",
            "found: 31 snippets in folder щ\n",
            "adding щ to data and labels\n",
            "Finished adding щ samples to data and labels\n",
            "found: 31 snippets in folder Е_\n",
            "adding Е_ to data and labels\n",
            "Finished adding Е_ samples to data and labels\n",
            "found: 31 snippets in folder А_\n",
            "adding А_ to data and labels\n",
            "Finished adding А_ samples to data and labels\n",
            "found: 31 snippets in folder Ю_\n",
            "adding Ю_ to data and labels\n",
            "Finished adding Ю_ samples to data and labels\n",
            "found: 31 snippets in folder л\n",
            "adding л to data and labels\n",
            "Finished adding л samples to data and labels\n",
            "found: 31 snippets in folder ж\n",
            "adding ж to data and labels\n",
            "Finished adding ж samples to data and labels\n",
            "found: 31 snippets in folder и\n",
            "adding и to data and labels\n",
            "Finished adding и samples to data and labels\n",
            "found: 31 snippets in folder Ш_\n",
            "adding Ш_ to data and labels\n",
            "Finished adding Ш_ samples to data and labels\n",
            "found: 31 snippets in folder Р_\n",
            "adding Р_ to data and labels\n",
            "Finished adding Р_ samples to data and labels\n",
            "found: 32 snippets in folder я\n",
            "adding я to data and labels\n",
            "Finished adding я samples to data and labels\n",
            "found: 31 snippets in folder б\n",
            "adding б to data and labels\n",
            "Finished adding б samples to data and labels\n",
            "found: 31 snippets in folder м\n",
            "adding м to data and labels\n",
            "Finished adding м samples to data and labels\n",
            "found: 31 snippets in folder х\n",
            "adding х to data and labels\n",
            "Finished adding х samples to data and labels\n",
            "found: 31 snippets in folder У_\n",
            "adding У_ to data and labels\n",
            "Finished adding У_ samples to data and labels\n",
            "found: 31 snippets in folder у\n",
            "adding у to data and labels\n",
            "Finished adding у samples to data and labels\n",
            "found: 31 snippets in folder т\n",
            "adding т to data and labels\n",
            "Finished adding т samples to data and labels\n",
            "found: 31 snippets in folder В_\n",
            "adding В_ to data and labels\n",
            "Finished adding В_ samples to data and labels\n",
            "found: 31 snippets in folder З_\n",
            "adding З_ to data and labels\n",
            "Finished adding З_ samples to data and labels\n",
            "found: 31 snippets in folder г\n",
            "adding г to data and labels\n",
            "Finished adding г samples to data and labels\n",
            "found: 31 snippets in folder К_\n",
            "adding К_ to data and labels\n",
            "Finished adding К_ samples to data and labels\n",
            "found: 31 snippets in folder ё\n",
            "adding ё to data and labels\n",
            "Finished adding ё samples to data and labels\n",
            "found: 31 snippets in folder е\n",
            "adding е to data and labels\n",
            "Finished adding е samples to data and labels\n",
            "found: 31 snippets in folder н\n",
            "adding н to data and labels\n",
            "Finished adding н samples to data and labels\n",
            "found: 31 snippets in folder Ё_\n",
            "adding Ё_ to data and labels\n",
            "Finished adding Ё_ samples to data and labels\n",
            "found: 31 snippets in folder д\n",
            "adding д to data and labels\n",
            "Finished adding д samples to data and labels\n",
            "found: 31 snippets in folder й\n",
            "adding й to data and labels\n",
            "Finished adding й samples to data and labels\n",
            "found: 31 snippets in folder М_\n",
            "adding М_ to data and labels\n",
            "Finished adding М_ samples to data and labels\n",
            "found: 31 snippets in folder Л_\n",
            "adding Л_ to data and labels\n",
            "Finished adding Л_ samples to data and labels\n",
            "found: 31 snippets in folder Н_\n",
            "adding Н_ to data and labels\n",
            "Finished adding Н_ samples to data and labels\n",
            "found: 31 snippets in folder э\n",
            "adding э to data and labels\n",
            "Finished adding э samples to data and labels\n",
            "found: 31 snippets in folder к\n",
            "adding к to data and labels\n",
            "Finished adding к samples to data and labels\n",
            "found: 31 snippets in folder С_\n",
            "adding С_ to data and labels\n",
            "Finished adding С_ samples to data and labels\n",
            "found: 31 snippets in folder в\n",
            "adding в to data and labels\n",
            "Finished adding в samples to data and labels\n",
            "found: 31 snippets in folder а\n",
            "adding а to data and labels\n",
            "Finished adding а samples to data and labels\n",
            "found: 31 snippets in folder Т_\n",
            "adding Т_ to data and labels\n",
            "Finished adding Т_ samples to data and labels\n",
            "found: 30 snippets in folder Ж_\n",
            "adding Ж_ to data and labels\n",
            "Finished adding Ж_ samples to data and labels\n",
            "found: 31 snippets in folder Ч_\n",
            "adding Ч_ to data and labels\n",
            "Finished adding Ч_ samples to data and labels\n",
            "found: 31 snippets in folder ц\n",
            "adding ц to data and labels\n",
            "Finished adding ц samples to data and labels\n",
            "found: 31 snippets in folder р\n",
            "adding р to data and labels\n",
            "Finished adding р samples to data and labels\n",
            "found: 30 snippets in folder ф\n",
            "adding ф to data and labels\n",
            "Finished adding ф samples to data and labels\n",
            "found: 30 snippets in folder Э_\n",
            "adding Э_ to data and labels\n",
            "Finished adding Э_ samples to data and labels\n",
            "found: 31 snippets in folder П_\n",
            "adding П_ to data and labels\n",
            "Finished adding П_ samples to data and labels\n",
            "found: 31 snippets in folder с\n",
            "adding с to data and labels\n",
            "Finished adding с samples to data and labels\n",
            "found: 31 snippets in folder Ф_\n",
            "adding Ф_ to data and labels\n",
            "Finished adding Ф_ samples to data and labels\n",
            "found: 30 snippets in folder Щ_\n",
            "adding Щ_ to data and labels\n",
            "Finished adding Щ_ samples to data and labels\n",
            "found: 31 snippets in folder Я_\n",
            "adding Я_ to data and labels\n",
            "Finished adding Я_ samples to data and labels\n",
            "found: 31 snippets in folder И_\n",
            "adding И_ to data and labels\n",
            "Finished adding И_ samples to data and labels\n",
            "found: 31 snippets in folder О_\n",
            "adding О_ to data and labels\n",
            "Finished adding О_ samples to data and labels\n",
            "found: 31 snippets in folder ю\n",
            "adding ю to data and labels\n",
            "Finished adding ю samples to data and labels\n",
            "found: 31 snippets in folder Г_\n",
            "adding Г_ to data and labels\n",
            "Finished adding Г_ samples to data and labels\n",
            "found: 31 snippets in folder Б_\n",
            "adding Б_ to data and labels\n",
            "Finished adding Б_ samples to data and labels\n"
          ],
          "name": "stdout"
        }
      ]
    },
    {
      "cell_type": "code",
      "metadata": {
        "id": "jb-Jev4-3tVT",
        "colab_type": "code",
        "colab": {}
      },
      "source": [
        "# Create and train SVM classifier\n",
        "print('Training the SVM')\n",
        "#create the SVC\n",
        "svm_clf = LinearSVC(dual=False,verbose=1)\n",
        "#train the svm\n",
        "svm_clf.fit(data_up, labels_up)"
      ],
      "execution_count": 0,
      "outputs": []
    },
    {
      "cell_type": "code",
      "metadata": {
        "id": "GVx2FLePkz1W",
        "colab_type": "code",
        "outputId": "903acb30-4ac4-4fd8-d498-3c41eff07bd0",
        "colab": {
          "base_uri": "https://localhost:8080/",
          "height": 138
        }
      },
      "source": [
        "# Now we finally try to recognise text from the test png \n",
        "test_text_recognised = recognise_rus_text('/content/data/task_1/images/rus/testing.png', svm_clf)\n",
        "print(test_text_recognised)"
      ],
      "execution_count": 0,
      "outputs": [
        {
          "output_type": "stream",
          "text": [
            "getting bboxes from image\n",
            "sorting bboxes\n",
            "getting images from bboxes\n"
          ],
          "name": "stdout"
        },
        {
          "output_type": "stream",
          "text": [
            "/usr/local/lib/python3.6/dist-packages/ipykernel_launcher.py:15: UserWarning: The argument 'neighbors' is deprecated and will be removed in scikit-image 0.18, use 'connectivity' instead. For neighbors=8, use connectivity=2\n",
            "  from ipykernel import kernelapp as app\n"
          ],
          "name": "stderr"
        },
        {
          "output_type": "stream",
          "text": [
            "методопорнБГхвепоровнабОрфОЖихалгОриТмОвОбУЧениЯсУЧиТелемиспОлнзУюЩихсЯдлЯзадаЧюассииКацииирегрессиОннОганализапринадлеЖиТсемейсвУлинейннГхюассииКаТОрОвимОЖТТаМрассмаТриваТнсЯККспециалнннГйслУЧайреулЯризациипОтихОнОвУосОбнГмсвОйсвОммеТОдаОпОрннГхвеКОрОвЯвлЯеТсЯнепрернГвнОеУменнШениеэмпириЧесКОйОШибКиюассииКациииУвелиЧениезазОрапОэТОмУмеТОдТаСизвесТенКаКтетОбШэссччктОрэстэксчтэБнчЮтззОрОтоснОвнаЯидеЯмеТОдаперевОдисОдннГхвеКОрОввпрОсТрансТвОбОлеевнГсОКОйразмернОсТиипОисКразделЯюЩейгиперплОсКОсисмаКсималбннГмзазОрОмвэТОмпрОсТрансТвевепараллелнннГхгиперплОсКОсТисТрОЯТсЯпООеимсТОрОнамгиперплОсКОсТиразделЯюЩейюасснГРзЭеЯюШейечПеПОСБСБюбдеТгиперплОсКОсТнмаКсимизирУюЩаЯрассТОЯниедОдвУхпараллелнннГхгиперплОсКОсейАлгриТмрабОТаеТвпредпОлОЖнииЧТОЧембОлнШеразнийилирассОЯниемеЁУэТимипараллелнннГмигиперплОсКОсТЯмиТемменнШеУдеТсреднЯЯОШиКаюассииКаТОраПОСТаЁОВКаЗЯаИЧасТОвалгОриТмахмаШиннОгООбЧениЯвОзниКаеТнеОбхОдимОсТнюассифицирОваТнданннГеКаЁнГйОбнеКданннГхпредсТавлЯеТсЯКаКвеКОрТОЧКаврмернОмпрОсТрансвеУпОрЯдОЧенннГйнабОрЧиселКаЁаЯизэТихТОЧеКпринадлеЖиТТОлнКООднОмУиздвУхюассОввОпрОссОсОиТвТОммОЖнОлиразделиТнТОЧКигиперплОсКОснюразмернОсирТуТОТипиЧннГйслУЧайлинейнОйразделимОсТиИсКОмнГхгиперплОсКОсТеймОЖТбнГТнмнОгпОэТОмУпОлагаюТЧТОмаКсимизациЯзазОрамеЁУюассамиспОсОбсТвУеТбОлееУвереннОйюассииКациитОесТнмОнОлинайТиТаКюгиперплОсКснЧТОбнГрассТОЯниеОТнеёдОбиЖйШейТОЧКибнГлОмаКсималнннГмуТОэКвиваленТнОТОмУЧТОсУммарассТОЯнийдОгиперплОсКОсиОТдвУхблиЧйШихКнейТОЧеКлеЧЩихпОразннГесТОрОннГОТнеёмаКималннаЁсиТаКаЯгиперплОсКОсТнсщесТвПеТОнаназнГваеТсЯОПтчтэБнОйрэзеяЮЖейечеПОскОстБЮасООТвеТсТвУюЩийейлинейннГйюассииКаТОрназнГваеТсЯОПтчэБнОрэзбеяЮЖчтШэссччктООт\n"
          ],
          "name": "stdout"
        }
      ]
    },
    {
      "cell_type": "markdown",
      "metadata": {
        "id": "xZQrqWxnMdJh",
        "colab_type": "text"
      },
      "source": [
        "As it can be seen, the classifier does not distinguish well between capitals and lowercase letters. This is due to the character extraction function. The height of the letter is often the only way to distinguish between upper and lowercase letters. Being extracted as separate regions not as a line, and then resized to 20x20 pixels after, letters lose this characteristic.\n",
        "\n",
        "The next step is to calculate the actual accuracy of the classifier.\n",
        "Because of the imperfections of letter extraction we cannot just provide the original text as a label for the test_image. The first letter skipped or recognised as two regions instead of one will cause all the following letters to be checked incorrectly. "
      ]
    },
    {
      "cell_type": "code",
      "metadata": {
        "id": "7kM0Qq1Buecs",
        "colab_type": "code",
        "colab": {}
      },
      "source": [
        "# def test_get_hog_features(image):\n",
        "#   return hog(image,\n",
        "#              orientations=12,\n",
        "#              pixels_per_cell=(4, 4),\n",
        "#              cells_per_block=(3, 3))\n",
        "  \n",
        "# Get the training data and labels from folders\n",
        "# training_root - path to a folder with sorted snippet folders.\n",
        "# Requires '/' in the end\n",
        "# returns (data, labels) tuple\n",
        "# def test_get_data_and_labels(training_root, hog_pixels_per_cell, hog_cells_per_block):\n",
        "#   char_folders = os.listdir(training_root)\n",
        "#   data = []\n",
        "#   labels = []\n",
        "\n",
        "#   for folder in char_folders:\n",
        "#     path_to_char_folder = training_root + folder +'/'\n",
        "#     char_filenames = sorted([filename for filename in os.listdir(path_to_char_folder) if filename.endswith('.png')])\n",
        "#     char_filenames = [path_to_char_folder + filename for filename in char_filenames]\n",
        "\n",
        "#     # print(f\"found: {len(char_filenames)} snippets in folder {folder}\")\n",
        "\n",
        "#     # print(f\"adding {folder} to data and labels\")\n",
        "#     for filename in char_filenames:\n",
        "#         #read the images\n",
        "#         image = imread(filename)\n",
        "#         #flatten it\n",
        "#         hog_features = hog(image,\n",
        "#              orientations=12,\n",
        "#              pixels_per_cell=(hog_pixels_per_cell, hog_pixels_per_cell),\n",
        "#              cells_per_block=(hog_cells_per_block, hog_cells_per_block))\n",
        "#         data.append(hog_features)\n",
        "#         # Add the actual letter name to label not 'A_' for capitals\n",
        "#         labels.append(folder[0])\n",
        "\n",
        "#     # print(f'Finished adding {folder} samples to data and labels')\n",
        "#   return (data, labels)\n",
        "\n",
        "# Returns label associated with the image of a letter using the passed classifier\n",
        "# def test_recognise_letter(letter_image, clf):\n",
        "#   hog_features = test_get_hog_features(letter_image)\n",
        "#   result_type = clf.predict(hog_features.reshape(1,-1))\n",
        "#   return result_type[0]"
      ],
      "execution_count": 0,
      "outputs": []
    },
    {
      "cell_type": "code",
      "metadata": {
        "id": "nrLXTt6OuG6C",
        "colab_type": "code",
        "outputId": "8cdac6d0-13c0-455b-b750-a07797f770f7",
        "colab": {
          "base_uri": "https://localhost:8080/",
          "height": 420
        }
      },
      "source": [
        "# Get data and labels to train SVM\n",
        "# for pixel_per_cells in range (3,10):\n",
        "#   for cells_per_block in range (1, 7):\n",
        "#     if pixel_per_cells * cells_per_block > 20:\n",
        "#       continue\n",
        "#     data_up, labels_up = test_get_data_and_labels('/content/data/task_1/rus/training_classes_sorted/',\n",
        "#                                                   hog_pixels_per_cell=pixel_per_cells,\n",
        "#                                                   hog_cells_per_block=cells_per_block)\n",
        "\n",
        "#     svm_clf = LinearSVC(dual=False, verbose=1)\n",
        "#     scores = cross_val_score(svm_clf, data_up, labels_up, cv=5)\n",
        "#     print(\" pixel_per_cells: %i cells_per_block %i Accuracy: %0.2f (+/- %0.2f)\" % (pixel_per_cells, cells_per_block, scores.mean(), scores.std() * 2))"
      ],
      "execution_count": 0,
      "outputs": [
        {
          "output_type": "stream",
          "text": [
            "[LibLinear][LibLinear][LibLinear][LibLinear][LibLinear]pixel_per_cells: 3 cells_per_block 1 Accuracy: 0.74 (+/- 0.14)\n",
            "[LibLinear][LibLinear][LibLinear][LibLinear][LibLinear]pixel_per_cells: 3 cells_per_block 2 Accuracy: 0.74 (+/- 0.15)\n",
            "[LibLinear][LibLinear][LibLinear][LibLinear][LibLinear]pixel_per_cells: 3 cells_per_block 3 Accuracy: 0.73 (+/- 0.14)\n",
            "[LibLinear][LibLinear][LibLinear][LibLinear][LibLinear]pixel_per_cells: 3 cells_per_block 4 Accuracy: 0.73 (+/- 0.15)\n",
            "[LibLinear][LibLinear][LibLinear][LibLinear][LibLinear]pixel_per_cells: 3 cells_per_block 5 Accuracy: 0.74 (+/- 0.14)\n",
            "[LibLinear][LibLinear][LibLinear][LibLinear][LibLinear]pixel_per_cells: 3 cells_per_block 6 Accuracy: 0.75 (+/- 0.13)\n",
            "[LibLinear][LibLinear][LibLinear][LibLinear][LibLinear]pixel_per_cells: 4 cells_per_block 1 Accuracy: 0.76 (+/- 0.12)\n",
            "[LibLinear][LibLinear][LibLinear][LibLinear][LibLinear]pixel_per_cells: 4 cells_per_block 2 Accuracy: 0.78 (+/- 0.13)\n",
            "[LibLinear][LibLinear][LibLinear][LibLinear][LibLinear]pixel_per_cells: 4 cells_per_block 3 Accuracy: 0.79 (+/- 0.13)\n",
            "[LibLinear][LibLinear][LibLinear][LibLinear][LibLinear]pixel_per_cells: 4 cells_per_block 4 Accuracy: 0.78 (+/- 0.12)\n",
            "[LibLinear][LibLinear][LibLinear][LibLinear][LibLinear]pixel_per_cells: 4 cells_per_block 5 Accuracy: 0.77 (+/- 0.12)\n",
            "[LibLinear][LibLinear][LibLinear][LibLinear][LibLinear]pixel_per_cells: 5 cells_per_block 1 Accuracy: 0.75 (+/- 0.12)\n",
            "[LibLinear][LibLinear][LibLinear][LibLinear][LibLinear]pixel_per_cells: 5 cells_per_block 2 Accuracy: 0.76 (+/- 0.15)\n",
            "[LibLinear][LibLinear][LibLinear][LibLinear][LibLinear]pixel_per_cells: 5 cells_per_block 3 Accuracy: 0.77 (+/- 0.12)\n",
            "[LibLinear][LibLinear][LibLinear][LibLinear][LibLinear]pixel_per_cells: 5 cells_per_block 4 Accuracy: 0.77 (+/- 0.12)\n",
            "[LibLinear][LibLinear][LibLinear][LibLinear][LibLinear]pixel_per_cells: 6 cells_per_block 1 Accuracy: 0.71 (+/- 0.15)\n",
            "[LibLinear][LibLinear][LibLinear][LibLinear][LibLinear]pixel_per_cells: 6 cells_per_block 2 Accuracy: 0.74 (+/- 0.12)\n",
            "[LibLinear][LibLinear][LibLinear][LibLinear][LibLinear]pixel_per_cells: 6 cells_per_block 3 Accuracy: 0.73 (+/- 0.13)\n",
            "[LibLinear][LibLinear][LibLinear][LibLinear][LibLinear]pixel_per_cells: 7 cells_per_block 1 Accuracy: 0.45 (+/- 0.12)\n",
            "[LibLinear][LibLinear][LibLinear][LibLinear][LibLinear]pixel_per_cells: 7 cells_per_block 2 Accuracy: 0.50 (+/- 0.13)\n",
            "[LibLinear][LibLinear][LibLinear][LibLinear][LibLinear]pixel_per_cells: 8 cells_per_block 1 Accuracy: 0.62 (+/- 0.13)\n",
            "[LibLinear][LibLinear][LibLinear][LibLinear][LibLinear]pixel_per_cells: 8 cells_per_block 2 Accuracy: 0.63 (+/- 0.11)\n",
            "[LibLinear][LibLinear][LibLinear][LibLinear][LibLinear]pixel_per_cells: 9 cells_per_block 1 Accuracy: 0.63 (+/- 0.13)\n",
            "[LibLinear][LibLinear][LibLinear][LibLinear][LibLinear]pixel_per_cells: 9 cells_per_block 2 Accuracy: 0.65 (+/- 0.15)\n"
          ],
          "name": "stdout"
        }
      ]
    },
    {
      "cell_type": "code",
      "metadata": {
        "id": "FbjqW07rpUNW",
        "colab_type": "code",
        "outputId": "39ef9c57-477c-4356-c4fe-f3c3eb46cc69",
        "colab": {
          "base_uri": "https://localhost:8080/",
          "height": 34
        }
      },
      "source": [
        "# https://scikit-learn.org/stable/modules/cross_validation.html\n",
        "\n",
        "#create the SVC\n",
        "svm_clf = LinearSVC(dual=False, verbose=1)\n",
        "scores = cross_val_score(svm_clf, data_up, labels_up, cv=5)\n",
        "print(\"Accuracy: %0.2f (+/- %0.2f)\" % (scores.mean(), scores.std() * 2))"
      ],
      "execution_count": 0,
      "outputs": [
        {
          "output_type": "stream",
          "text": [
            "[LibLinear][LibLinear][LibLinear][LibLinear][LibLinear]Accuracy: 0.80 (+/- 0.14)\n"
          ],
          "name": "stdout"
        }
      ]
    },
    {
      "cell_type": "markdown",
      "metadata": {
        "id": "OzPVKsM-bMhj",
        "colab_type": "text"
      },
      "source": [
        "The result of the previous code gives accuracy score of 0.80 (+/- 0.14)\n",
        "\n",
        "Let's see what the score will be if we will consider letter recognised correctly if it's the same letter but different case. "
      ]
    },
    {
      "cell_type": "code",
      "metadata": {
        "id": "jp-xHLwn8PX3",
        "colab_type": "code",
        "colab": {}
      },
      "source": [
        "# Getting data from dataset without uppercase letters\n",
        "data_no_up, labels_no_up = get_data_and_labels('/content/data/task_1/rus/training_classes_sorted_no_up/')"
      ],
      "execution_count": 0,
      "outputs": []
    },
    {
      "cell_type": "code",
      "metadata": {
        "id": "-LZtxzxZsFrh",
        "colab_type": "code",
        "outputId": "f6b47326-4d58-4cce-895a-fe11e366ef65",
        "colab": {
          "base_uri": "https://localhost:8080/",
          "height": 34
        }
      },
      "source": [
        "svm_clf = LinearSVC(dual=False, verbose=1)\n",
        "scores = cross_val_score(svm_clf, data_no_up, labels_no_up, cv=5)\n",
        "print(\"Accuracy: %0.2f (+/- %0.2f)\" % (scores.mean(), scores.std() * 2))"
      ],
      "execution_count": 0,
      "outputs": [
        {
          "output_type": "stream",
          "text": [
            "[LibLinear][LibLinear][LibLinear][LibLinear][LibLinear]Accuracy: 0.94 (+/- 0.11)\n"
          ],
          "name": "stdout"
        }
      ]
    },
    {
      "cell_type": "markdown",
      "metadata": {
        "id": "oZiKIPshw_Rw",
        "colab_type": "text"
      },
      "source": [
        "The score is 0.94 (+/- 0.11)\n"
      ]
    },
    {
      "cell_type": "markdown",
      "metadata": {
        "id": "9IvpVioo1iiv",
        "colab_type": "text"
      },
      "source": [
        "#### 1.1.2.2 KNN classifier"
      ]
    },
    {
      "cell_type": "code",
      "metadata": {
        "id": "icg9BVmn1kWC",
        "colab_type": "code",
        "colab": {}
      },
      "source": [
        "n_neighbors = 2\n",
        "weights = 'distance'\n",
        "knn_clf = neighbors.KNeighborsClassifier(n_neighbors, weights=weights)\n",
        "knn_clf.fit(data_no_up, labels_no_up)\n",
        "\n",
        "test_text_recognised = recognise_rus_text('/content/data/task_1/images/rus/testing.png', knn_clf)\n",
        "print(test_text_recognised)"
      ],
      "execution_count": 0,
      "outputs": []
    },
    {
      "cell_type": "code",
      "metadata": {
        "id": "daZOqgAs5iX3",
        "colab_type": "code",
        "outputId": "2c0694e7-b4a1-4db3-8692-40c183152961",
        "colab": {
          "base_uri": "https://localhost:8080/",
          "height": 101
        }
      },
      "source": [
        "for n_neighbours in range(1,6):\n",
        "  knn_clf_up = neighbors.KNeighborsClassifier(n_neighbours, weights='distance')\n",
        "  scores = cross_val_score(knn_clf_up, data_up, labels_up, cv=5)\n",
        "\n",
        "  print(\"Neighbours: %i Accuracy: %0.2f (+/- %0.2f)\" % (n_neighbours, scores.mean(), scores.std() * 2))"
      ],
      "execution_count": 0,
      "outputs": [
        {
          "output_type": "stream",
          "text": [
            "Neighbours: 1 Weights: uniform Accuracy: 0.74 (+/- 0.14)\n",
            "Neighbours: 2 Weights: uniform Accuracy: 0.74 (+/- 0.14)\n",
            "Neighbours: 3 Weights: uniform Accuracy: 0.73 (+/- 0.13)\n",
            "Neighbours: 4 Weights: uniform Accuracy: 0.73 (+/- 0.14)\n",
            "Neighbours: 5 Weights: uniform Accuracy: 0.72 (+/- 0.13)\n"
          ],
          "name": "stdout"
        }
      ]
    },
    {
      "cell_type": "markdown",
      "metadata": {
        "id": "YbxrGYcR8-fd",
        "colab_type": "text"
      },
      "source": [
        "The best score is 0.74 (+/- 0.14) for 1 and 2 neighbours"
      ]
    },
    {
      "cell_type": "code",
      "metadata": {
        "id": "HIY-mOa_6yur",
        "colab_type": "code",
        "outputId": "d96f79db-891e-459f-cc12-8e4834a660e8",
        "colab": {
          "base_uri": "https://localhost:8080/",
          "height": 101
        }
      },
      "source": [
        "for n_neighbours in range(1,6):\n",
        "  knn_clf_no_up = neighbors.KNeighborsClassifier(n_neighbours, weights='distance')\n",
        "  scores = cross_val_score(knn_clf_no_up,data_no_up, labels_no_up, cv=5)\n",
        "\n",
        "  print(\"Neighbours: %i Accuracy: %0.2f (+/- %0.2f)\" % (n_neighbours, scores.mean(), scores.std() * 2))\n",
        "\n",
        "# knn_clf_up = neighbors.KNeighborsClassifier(n_neighbors, weights=weights)\n",
        "# scores = cross_val_score(knn_clf_up, data_no_up, labels_no_up, cv=5)\n",
        "# print(\"Accuracy: %0.2f (+/- %0.2f)\" % (scores.mean(), scores.std() * 2))"
      ],
      "execution_count": 0,
      "outputs": [
        {
          "output_type": "stream",
          "text": [
            "Neighbours: 1 Accuracy: 0.90 (+/- 0.14)\n",
            "Neighbours: 2 Accuracy: 0.90 (+/- 0.14)\n",
            "Neighbours: 3 Accuracy: 0.89 (+/- 0.15)\n",
            "Neighbours: 4 Accuracy: 0.88 (+/- 0.15)\n",
            "Neighbours: 5 Accuracy: 0.87 (+/- 0.15)\n"
          ],
          "name": "stdout"
        }
      ]
    },
    {
      "cell_type": "markdown",
      "metadata": {
        "id": "Y8_Sdd4X9Xkd",
        "colab_type": "text"
      },
      "source": [
        "The best score is 0.90 (+/- 0.14) for 1 and 2 neighbours"
      ]
    },
    {
      "cell_type": "markdown",
      "metadata": {
        "id": "Qy7wWlwP95xI",
        "colab_type": "text"
      },
      "source": [
        "## 1.2 English language"
      ]
    },
    {
      "cell_type": "markdown",
      "metadata": {
        "id": "PbZeZ5fQpXjh",
        "colab_type": "text"
      },
      "source": [
        "### 1.2.1 Dataset creation\n"
      ]
    },
    {
      "cell_type": "markdown",
      "metadata": {
        "id": "wWIZFMej1mA3",
        "colab_type": "text"
      },
      "source": [
        "I will again create two versions of dataset - with capital letters being treated as separate classes and with lowercase and uppercase letters being mixed in one class\n",
        " "
      ]
    },
    {
      "cell_type": "code",
      "metadata": {
        "colab_type": "code",
        "id": "P0hBadwMsCTs",
        "colab": {}
      },
      "source": [
        "# String of all possible classes including capital letters\n",
        "eng_chars = \"abcdefghijklmnopqrstuvwxyzABCDEFGHIJKLMNOPQRSTUVWXYZ123456789\"\n",
        "eng_chars_no_up = \"abcdefghijklmnopqrstuvwxyzabcdefghijklmnopqrstuvwxyz123456789\""
      ],
      "execution_count": 0,
      "outputs": []
    },
    {
      "cell_type": "markdown",
      "metadata": {
        "id": "wlncXO6k2RHF",
        "colab_type": "text"
      },
      "source": [
        "Character extraction for english letters works much better than for russian ones. So it is not needed to manually sort the letters now.\n",
        "\n",
        "However, if one would attempt to increase the height of bboxes to, for example, include dot above 'i' to the snippet, there might be the problem if bboxes will overlap and will not be sorted correctly.\n",
        "After some experiments, it was found that increasing the height of bboxes by 0.2 of their original height, does not affect sorting, but slightly (by 0.01) increases the accuracy. "
      ]
    },
    {
      "cell_type": "code",
      "metadata": {
        "id": "LbACu9EBt3Qj",
        "colab_type": "code",
        "colab": {}
      },
      "source": [
        "# If it will be needed to clear folders with training classes\n",
        "# !rm -r '/content/data/task_1/eng/training_classes'"
      ],
      "execution_count": 0,
      "outputs": []
    },
    {
      "cell_type": "code",
      "metadata": {
        "colab_type": "code",
        "id": "cv3JyO_TsCTv",
        "colab": {
          "base_uri": "https://localhost:8080/",
          "height": 474
        },
        "outputId": "c2ff6fdd-e16c-450a-e587-0995bf17981b"
      },
      "source": [
        "# Filling the folders with character snippets.\n",
        "# Uppercase considered different classes\n",
        "# Will overwrite the existing files with the same names\n",
        "# but will not delete existing files \n",
        "\n",
        "out_folder = '/content/data/task_1/eng/training_classes/'\n",
        "training_files = ['/content/data/task_1/eng/images/training1.png',\n",
        "                  '/content/data/task_1/eng/images/training2.png',\n",
        "                  '/content/data/task_1/eng/images/training3.png',\n",
        "                  '/content/data/task_1/eng/images/training4.png',\n",
        "                  '/content/data/task_1/eng/images/training5.png',\n",
        "                  '/content/data/task_1/eng/images/training6.png']\n",
        "sort_chars_to_folders (training_files, out_folder, eng_chars, enlarge_bboxes_coef=0.2)"
      ],
      "execution_count": 149,
      "outputs": [
        {
          "output_type": "stream",
          "text": [
            "getting bboxes from image\n"
          ],
          "name": "stdout"
        },
        {
          "output_type": "stream",
          "text": [
            "/usr/local/lib/python3.6/dist-packages/ipykernel_launcher.py:15: UserWarning: The argument 'neighbors' is deprecated and will be removed in scikit-image 0.18, use 'connectivity' instead. For neighbors=8, use connectivity=2\n",
            "  from ipykernel import kernelapp as app\n"
          ],
          "name": "stderr"
        },
        {
          "output_type": "stream",
          "text": [
            "sorting bboxes\n",
            "getting images from bboxes\n",
            "alphabet_length = 61\n",
            "getting bboxes from image\n",
            "sorting bboxes\n",
            "getting images from bboxes\n",
            "alphabet_length = 61\n",
            "getting bboxes from image\n",
            "sorting bboxes\n",
            "getting images from bboxes\n",
            "alphabet_length = 61\n",
            "getting bboxes from image\n",
            "sorting bboxes\n",
            "getting images from bboxes\n",
            "alphabet_length = 61\n",
            "getting bboxes from image\n",
            "sorting bboxes\n",
            "getting images from bboxes\n",
            "alphabet_length = 61\n",
            "getting bboxes from image\n",
            "sorting bboxes\n",
            "getting images from bboxes\n",
            "alphabet_length = 61\n"
          ],
          "name": "stdout"
        }
      ]
    },
    {
      "cell_type": "code",
      "metadata": {
        "id": "uaUtln5PoZDK",
        "colab_type": "code",
        "colab": {}
      },
      "source": [
        "# !rm -r '/content/data/task_1/eng/training_classes_no_up'"
      ],
      "execution_count": 0,
      "outputs": []
    },
    {
      "cell_type": "code",
      "metadata": {
        "id": "Z7NtMAcFoTxb",
        "colab_type": "code",
        "colab": {
          "base_uri": "https://localhost:8080/",
          "height": 474
        },
        "outputId": "cc495c18-2752-495f-f520-aede9362efb8"
      },
      "source": [
        "# Do the same for the dataset where lowercase and uppercase letters\n",
        "# are in the same class\n",
        "out_folder = '/content/data/task_1/eng/training_classes_no_up/'\n",
        "sort_chars_to_folders (training_files, out_folder, eng_chars_no_up, enlarge_bboxes_coef=0.2)"
      ],
      "execution_count": 150,
      "outputs": [
        {
          "output_type": "stream",
          "text": [
            "getting bboxes from image\n"
          ],
          "name": "stdout"
        },
        {
          "output_type": "stream",
          "text": [
            "/usr/local/lib/python3.6/dist-packages/ipykernel_launcher.py:15: UserWarning: The argument 'neighbors' is deprecated and will be removed in scikit-image 0.18, use 'connectivity' instead. For neighbors=8, use connectivity=2\n",
            "  from ipykernel import kernelapp as app\n"
          ],
          "name": "stderr"
        },
        {
          "output_type": "stream",
          "text": [
            "sorting bboxes\n",
            "getting images from bboxes\n",
            "alphabet_length = 61\n",
            "getting bboxes from image\n",
            "sorting bboxes\n",
            "getting images from bboxes\n",
            "alphabet_length = 61\n",
            "getting bboxes from image\n",
            "sorting bboxes\n",
            "getting images from bboxes\n",
            "alphabet_length = 61\n",
            "getting bboxes from image\n",
            "sorting bboxes\n",
            "getting images from bboxes\n",
            "alphabet_length = 61\n",
            "getting bboxes from image\n",
            "sorting bboxes\n",
            "getting images from bboxes\n",
            "alphabet_length = 61\n",
            "getting bboxes from image\n",
            "sorting bboxes\n",
            "getting images from bboxes\n",
            "alphabet_length = 61\n"
          ],
          "name": "stdout"
        }
      ]
    },
    {
      "cell_type": "markdown",
      "metadata": {
        "id": "vA1y2wqb4GcN",
        "colab_type": "text"
      },
      "source": [
        "### 1.2.2 SVM classifier\n",
        "Now we try to see, how accurate the classifier is."
      ]
    },
    {
      "cell_type": "code",
      "metadata": {
        "colab_type": "code",
        "id": "-TvGERbvSG9-",
        "colab": {
          "base_uri": "https://localhost:8080/",
          "height": 1000
        },
        "outputId": "c537de10-e037-44f1-d24d-f515b50ad698"
      },
      "source": [
        "# Getting data from dataset with uppercase classes\n",
        "eng_data_up, eng_labels_up = get_data_and_labels('/content/data/task_1/eng/training_classes/')\n",
        "# Getting data from dataset without uppercase classes\n",
        "eng_data_no_up, eng_labels_no_up = get_data_and_labels('/content/data/task_1/eng/training_classes_no_up/')"
      ],
      "execution_count": 151,
      "outputs": [
        {
          "output_type": "stream",
          "text": [
            "found: 54 snippets in folder u\n",
            "adding u to data and labels\n",
            "Finished adding u samples to data and labels\n",
            "found: 54 snippets in folder d\n",
            "adding d to data and labels\n",
            "Finished adding d samples to data and labels\n",
            "found: 54 snippets in folder 3\n",
            "adding 3 to data and labels\n",
            "Finished adding 3 samples to data and labels\n",
            "found: 54 snippets in folder C_\n",
            "adding C_ to data and labels\n",
            "Finished adding C_ samples to data and labels\n",
            "found: 54 snippets in folder Q_\n",
            "adding Q_ to data and labels\n",
            "Finished adding Q_ samples to data and labels\n",
            "found: 54 snippets in folder K_\n",
            "adding K_ to data and labels\n",
            "Finished adding K_ samples to data and labels\n",
            "found: 54 snippets in folder 7\n",
            "adding 7 to data and labels\n",
            "Finished adding 7 samples to data and labels\n",
            "found: 54 snippets in folder T_\n",
            "adding T_ to data and labels\n",
            "Finished adding T_ samples to data and labels\n",
            "found: 54 snippets in folder U_\n",
            "adding U_ to data and labels\n",
            "Finished adding U_ samples to data and labels\n",
            "found: 54 snippets in folder D_\n",
            "adding D_ to data and labels\n",
            "Finished adding D_ samples to data and labels\n",
            "found: 54 snippets in folder V_\n",
            "adding V_ to data and labels\n",
            "Finished adding V_ samples to data and labels\n",
            "found: 54 snippets in folder Y_\n",
            "adding Y_ to data and labels\n",
            "Finished adding Y_ samples to data and labels\n",
            "found: 54 snippets in folder A_\n",
            "adding A_ to data and labels\n",
            "Finished adding A_ samples to data and labels\n",
            "found: 54 snippets in folder l\n",
            "adding l to data and labels\n",
            "Finished adding l samples to data and labels\n",
            "found: 54 snippets in folder i\n",
            "adding i to data and labels\n",
            "Finished adding i samples to data and labels\n",
            "found: 54 snippets in folder M_\n",
            "adding M_ to data and labels\n",
            "Finished adding M_ samples to data and labels\n",
            "found: 54 snippets in folder s\n",
            "adding s to data and labels\n",
            "Finished adding s samples to data and labels\n",
            "found: 54 snippets in folder F_\n",
            "adding F_ to data and labels\n",
            "Finished adding F_ samples to data and labels\n",
            "found: 54 snippets in folder p\n",
            "adding p to data and labels\n",
            "Finished adding p samples to data and labels\n",
            "found: 54 snippets in folder W_\n",
            "adding W_ to data and labels\n",
            "Finished adding W_ samples to data and labels\n",
            "found: 54 snippets in folder I_\n",
            "adding I_ to data and labels\n",
            "Finished adding I_ samples to data and labels\n",
            "found: 54 snippets in folder n\n",
            "adding n to data and labels\n",
            "Finished adding n samples to data and labels\n",
            "found: 54 snippets in folder m\n",
            "adding m to data and labels\n",
            "Finished adding m samples to data and labels\n",
            "found: 54 snippets in folder P_\n",
            "adding P_ to data and labels\n",
            "Finished adding P_ samples to data and labels\n",
            "found: 54 snippets in folder e\n",
            "adding e to data and labels\n",
            "Finished adding e samples to data and labels\n",
            "found: 54 snippets in folder H_\n",
            "adding H_ to data and labels\n",
            "Finished adding H_ samples to data and labels\n",
            "found: 54 snippets in folder 6\n",
            "adding 6 to data and labels\n",
            "Finished adding 6 samples to data and labels\n",
            "found: 54 snippets in folder R_\n",
            "adding R_ to data and labels\n",
            "Finished adding R_ samples to data and labels\n",
            "found: 54 snippets in folder 9\n",
            "adding 9 to data and labels\n",
            "Finished adding 9 samples to data and labels\n",
            "found: 54 snippets in folder 4\n",
            "adding 4 to data and labels\n",
            "Finished adding 4 samples to data and labels\n",
            "found: 54 snippets in folder j\n",
            "adding j to data and labels\n",
            "Finished adding j samples to data and labels\n",
            "found: 54 snippets in folder x\n",
            "adding x to data and labels\n",
            "Finished adding x samples to data and labels\n",
            "found: 54 snippets in folder h\n",
            "adding h to data and labels\n",
            "Finished adding h samples to data and labels\n",
            "found: 54 snippets in folder z\n",
            "adding z to data and labels\n",
            "Finished adding z samples to data and labels\n",
            "found: 54 snippets in folder 1\n",
            "adding 1 to data and labels\n",
            "Finished adding 1 samples to data and labels\n",
            "found: 54 snippets in folder 8\n",
            "adding 8 to data and labels\n",
            "Finished adding 8 samples to data and labels\n",
            "found: 54 snippets in folder S_\n",
            "adding S_ to data and labels\n",
            "Finished adding S_ samples to data and labels\n",
            "found: 54 snippets in folder X_\n",
            "adding X_ to data and labels\n",
            "Finished adding X_ samples to data and labels\n",
            "found: 54 snippets in folder q\n",
            "adding q to data and labels\n",
            "Finished adding q samples to data and labels\n",
            "found: 54 snippets in folder 5\n",
            "adding 5 to data and labels\n",
            "Finished adding 5 samples to data and labels\n",
            "found: 54 snippets in folder J_\n",
            "adding J_ to data and labels\n",
            "Finished adding J_ samples to data and labels\n",
            "found: 54 snippets in folder f\n",
            "adding f to data and labels\n",
            "Finished adding f samples to data and labels\n",
            "found: 54 snippets in folder w\n",
            "adding w to data and labels\n",
            "Finished adding w samples to data and labels\n",
            "found: 54 snippets in folder E_\n",
            "adding E_ to data and labels\n",
            "Finished adding E_ samples to data and labels\n",
            "found: 54 snippets in folder o\n",
            "adding o to data and labels\n",
            "Finished adding o samples to data and labels\n",
            "found: 54 snippets in folder t\n",
            "adding t to data and labels\n",
            "Finished adding t samples to data and labels\n",
            "found: 54 snippets in folder y\n",
            "adding y to data and labels\n",
            "Finished adding y samples to data and labels\n",
            "found: 54 snippets in folder b\n",
            "adding b to data and labels\n",
            "Finished adding b samples to data and labels\n",
            "found: 54 snippets in folder 2\n",
            "adding 2 to data and labels\n",
            "Finished adding 2 samples to data and labels\n",
            "found: 54 snippets in folder r\n",
            "adding r to data and labels\n",
            "Finished adding r samples to data and labels\n",
            "found: 54 snippets in folder N_\n",
            "adding N_ to data and labels\n",
            "Finished adding N_ samples to data and labels\n",
            "found: 54 snippets in folder O_\n",
            "adding O_ to data and labels\n",
            "Finished adding O_ samples to data and labels\n",
            "found: 54 snippets in folder Z_\n",
            "adding Z_ to data and labels\n",
            "Finished adding Z_ samples to data and labels\n",
            "found: 54 snippets in folder v\n",
            "adding v to data and labels\n",
            "Finished adding v samples to data and labels\n",
            "found: 54 snippets in folder B_\n",
            "adding B_ to data and labels\n",
            "Finished adding B_ samples to data and labels\n",
            "found: 54 snippets in folder c\n",
            "adding c to data and labels\n",
            "Finished adding c samples to data and labels\n",
            "found: 54 snippets in folder k\n",
            "adding k to data and labels\n",
            "Finished adding k samples to data and labels\n",
            "found: 54 snippets in folder a\n",
            "adding a to data and labels\n",
            "Finished adding a samples to data and labels\n",
            "found: 54 snippets in folder L_\n",
            "adding L_ to data and labels\n",
            "Finished adding L_ samples to data and labels\n",
            "found: 54 snippets in folder g\n",
            "adding g to data and labels\n",
            "Finished adding g samples to data and labels\n",
            "found: 54 snippets in folder G_\n",
            "adding G_ to data and labels\n",
            "Finished adding G_ samples to data and labels\n",
            "found: 108 snippets in folder u\n",
            "adding u to data and labels\n",
            "Finished adding u samples to data and labels\n",
            "found: 108 snippets in folder d\n",
            "adding d to data and labels\n",
            "Finished adding d samples to data and labels\n",
            "found: 54 snippets in folder 3\n",
            "adding 3 to data and labels\n",
            "Finished adding 3 samples to data and labels\n",
            "found: 54 snippets in folder 7\n",
            "adding 7 to data and labels\n",
            "Finished adding 7 samples to data and labels\n",
            "found: 108 snippets in folder l\n",
            "adding l to data and labels\n",
            "Finished adding l samples to data and labels\n",
            "found: 108 snippets in folder i\n",
            "adding i to data and labels\n",
            "Finished adding i samples to data and labels\n",
            "found: 108 snippets in folder s\n",
            "adding s to data and labels\n",
            "Finished adding s samples to data and labels\n",
            "found: 108 snippets in folder p\n",
            "adding p to data and labels\n",
            "Finished adding p samples to data and labels\n",
            "found: 108 snippets in folder n\n",
            "adding n to data and labels\n",
            "Finished adding n samples to data and labels\n",
            "found: 108 snippets in folder m\n",
            "adding m to data and labels\n",
            "Finished adding m samples to data and labels\n",
            "found: 108 snippets in folder e\n",
            "adding e to data and labels\n",
            "Finished adding e samples to data and labels\n",
            "found: 54 snippets in folder 6\n",
            "adding 6 to data and labels\n",
            "Finished adding 6 samples to data and labels\n",
            "found: 54 snippets in folder 9\n",
            "adding 9 to data and labels\n",
            "Finished adding 9 samples to data and labels\n",
            "found: 54 snippets in folder 4\n",
            "adding 4 to data and labels\n",
            "Finished adding 4 samples to data and labels\n",
            "found: 108 snippets in folder j\n",
            "adding j to data and labels\n",
            "Finished adding j samples to data and labels\n",
            "found: 108 snippets in folder x\n",
            "adding x to data and labels\n",
            "Finished adding x samples to data and labels\n",
            "found: 108 snippets in folder h\n",
            "adding h to data and labels\n",
            "Finished adding h samples to data and labels\n",
            "found: 108 snippets in folder z\n",
            "adding z to data and labels\n",
            "Finished adding z samples to data and labels\n",
            "found: 54 snippets in folder 1\n",
            "adding 1 to data and labels\n",
            "Finished adding 1 samples to data and labels\n",
            "found: 54 snippets in folder 8\n",
            "adding 8 to data and labels\n",
            "Finished adding 8 samples to data and labels\n",
            "found: 108 snippets in folder q\n",
            "adding q to data and labels\n",
            "Finished adding q samples to data and labels\n",
            "found: 54 snippets in folder 5\n",
            "adding 5 to data and labels\n",
            "Finished adding 5 samples to data and labels\n",
            "found: 108 snippets in folder f\n",
            "adding f to data and labels\n",
            "Finished adding f samples to data and labels\n",
            "found: 108 snippets in folder w\n",
            "adding w to data and labels\n",
            "Finished adding w samples to data and labels\n",
            "found: 108 snippets in folder o\n",
            "adding o to data and labels\n",
            "Finished adding o samples to data and labels\n",
            "found: 108 snippets in folder t\n",
            "adding t to data and labels\n",
            "Finished adding t samples to data and labels\n",
            "found: 108 snippets in folder y\n",
            "adding y to data and labels\n",
            "Finished adding y samples to data and labels\n",
            "found: 108 snippets in folder b\n",
            "adding b to data and labels\n",
            "Finished adding b samples to data and labels\n",
            "found: 54 snippets in folder 2\n",
            "adding 2 to data and labels\n",
            "Finished adding 2 samples to data and labels\n",
            "found: 108 snippets in folder r\n",
            "adding r to data and labels\n",
            "Finished adding r samples to data and labels\n",
            "found: 108 snippets in folder v\n",
            "adding v to data and labels\n",
            "Finished adding v samples to data and labels\n",
            "found: 108 snippets in folder c\n",
            "adding c to data and labels\n",
            "Finished adding c samples to data and labels\n",
            "found: 108 snippets in folder k\n",
            "adding k to data and labels\n",
            "Finished adding k samples to data and labels\n",
            "found: 108 snippets in folder a\n",
            "adding a to data and labels\n",
            "Finished adding a samples to data and labels\n",
            "found: 108 snippets in folder g\n",
            "adding g to data and labels\n",
            "Finished adding g samples to data and labels\n"
          ],
          "name": "stdout"
        }
      ]
    },
    {
      "cell_type": "code",
      "metadata": {
        "colab_type": "code",
        "outputId": "c1ce85f4-8d29-40b3-d63e-da3e5ec60bdb",
        "id": "JIxnH8AeSG-I",
        "colab": {
          "base_uri": "https://localhost:8080/",
          "height": 34
        }
      },
      "source": [
        "# Checking the classifier on the dataset with uppercase classes\n",
        "svm_clf = LinearSVC(dual=False, verbose=1)\n",
        "scores = cross_val_score(svm_clf, eng_data_up, eng_labels_up, cv=5)\n",
        "print(\"Accuracy: %0.2f (+/- %0.2f)\" % (scores.mean(), scores.std() * 2))"
      ],
      "execution_count": 152,
      "outputs": [
        {
          "output_type": "stream",
          "text": [
            "[LibLinear][LibLinear][LibLinear][LibLinear][LibLinear]Accuracy: 0.84 (+/- 0.07)\n"
          ],
          "name": "stdout"
        }
      ]
    },
    {
      "cell_type": "markdown",
      "metadata": {
        "id": "OQt3fs_KW-gl",
        "colab_type": "text"
      },
      "source": [
        "Result: 0.84 (+/- 0.07)\n",
        "Let's see the confusion matrix"
      ]
    },
    {
      "cell_type": "code",
      "metadata": {
        "id": "7NMWDMPjpTt3",
        "colab_type": "code",
        "colab": {
          "base_uri": "https://localhost:8080/",
          "height": 941
        },
        "outputId": "22f3a860-bd51-453c-a8fc-98185eecec6c"
      },
      "source": [
        "X_train, X_test, y_train, y_test = train_test_split(eng_data_up, eng_labels_up, test_size=0.2, random_state=0)\n",
        "\n",
        "svm_clf.fit(X_train, y_train)\n",
        "\n",
        "prediction = svm_clf.predict(X_test)\n",
        "print(accuracy_score(y_test, prediction))\n",
        "\n",
        "fig, ax = plt.subplots(ncols=1, nrows=1, figsize=(16, 16))\n",
        "plot_confusion_matrix(svm_clf, X_test, y_test, ax=ax)"
      ],
      "execution_count": 153,
      "outputs": [
        {
          "output_type": "stream",
          "text": [
            "[LibLinear]0.8148710166919575\n"
          ],
          "name": "stdout"
        },
        {
          "output_type": "execute_result",
          "data": {
            "text/plain": [
              "<sklearn.metrics._plot.confusion_matrix.ConfusionMatrixDisplay at 0x7f3e8657d7f0>"
            ]
          },
          "metadata": {
            "tags": []
          },
          "execution_count": 153
        },
        {
          "output_type": "display_data",
          "data": {
            "image/png": "[encoded data removed]",
            "text/plain": [
              "<Figure size 1152x1152 with 2 Axes>"
            ]
          },
          "metadata": {
            "tags": [],
            "needs_background": "light"
          }
        }
      ]
    },
    {
      "cell_type": "markdown",
      "metadata": {
        "id": "QDPqix9_6B71",
        "colab_type": "text"
      },
      "source": [
        "As expected, a lot of uppercase letters were recognised as lowercase and vice versa.\n",
        "\n",
        " Also '1', 'l' and 'i' were mixed up more often than other.\n",
        "\n",
        "Now let's see the accuracy of the classifier trained to recognise only letter, not the case."
      ]
    },
    {
      "cell_type": "code",
      "metadata": {
        "colab_type": "code",
        "outputId": "aa9dbfd1-6964-4aff-fbf1-e440dbcf40a3",
        "id": "nZb5bHVYW3yC",
        "colab": {
          "base_uri": "https://localhost:8080/",
          "height": 34
        }
      },
      "source": [
        "# Checking the classifier on the dataset without uppercase classes\n",
        "svm_clf = LinearSVC(dual=False, verbose=1)\n",
        "scores = cross_val_score(svm_clf, eng_data_no_up, eng_labels_no_up, cv=5)\n",
        "print(\"Accuracy: %0.2f (+/- %0.2f)\" % (scores.mean(), scores.std() * 2))"
      ],
      "execution_count": 154,
      "outputs": [
        {
          "output_type": "stream",
          "text": [
            "[LibLinear][LibLinear][LibLinear][LibLinear][LibLinear]Accuracy: 0.91 (+/- 0.05)\n"
          ],
          "name": "stdout"
        }
      ]
    },
    {
      "cell_type": "markdown",
      "metadata": {
        "id": "tc1k1PIJsdjx",
        "colab_type": "text"
      },
      "source": [
        "Accuracy: 0.91 (+/- 0.05)\n",
        "\n",
        "Let's see the confusion matrix:\n"
      ]
    },
    {
      "cell_type": "code",
      "metadata": {
        "id": "oltWJdwk61cW",
        "colab_type": "code",
        "colab": {
          "base_uri": "https://localhost:8080/",
          "height": 945
        },
        "outputId": "0d3617fc-f090-40d5-9154-715f60ef73c4"
      },
      "source": [
        "X_train, X_test, y_train, y_test = train_test_split(eng_data_no_up, eng_labels_no_up, test_size=0.2, random_state=0)\n",
        "\n",
        "svm_clf.fit(X_train, y_train)\n",
        "\n",
        "prediction = svm_clf.predict(X_test)\n",
        "print(accuracy_score(y_test, prediction))\n",
        "\n",
        "fig, ax = plt.subplots(ncols=1, nrows=1, figsize=(16, 16))\n",
        "plot_confusion_matrix(svm_clf, X_test, y_test, ax=ax)"
      ],
      "execution_count": 155,
      "outputs": [
        {
          "output_type": "stream",
          "text": [
            "[LibLinear]0.936267071320182\n"
          ],
          "name": "stdout"
        },
        {
          "output_type": "execute_result",
          "data": {
            "text/plain": [
              "<sklearn.metrics._plot.confusion_matrix.ConfusionMatrixDisplay at 0x7f3e85b24cc0>"
            ]
          },
          "metadata": {
            "tags": []
          },
          "execution_count": 155
        },
        {
          "output_type": "display_data",
          "data": {
            "image/png": "[encoded data removed]",
            "text/plain": [
              "<Figure size 1152x1152 with 2 Axes>"
            ]
          },
          "metadata": {
            "tags": [],
            "needs_background": "light"
          }
        }
      ]
    },
    {
      "cell_type": "markdown",
      "metadata": {
        "id": "_yVFzAft7dF3",
        "colab_type": "text"
      },
      "source": [
        "As it can be seen, if it is no needed to distinguish between lowercase and uppercase letters, classifiers works quite well.\n",
        "\n",
        "There is still a problem related to  '1', 'l' and 'i' being poorly distinguished, however partially it can be solved by changing the character extractor the way that it will include dot above 'i' to the snippet image."
      ]
    },
    {
      "cell_type": "markdown",
      "metadata": {
        "id": "h9W-JFnAzDzI",
        "colab_type": "text"
      },
      "source": [
        "### 1.2.3 KNN classifier"
      ]
    },
    {
      "cell_type": "markdown",
      "metadata": {
        "id": "Yl8a41bX9Q0z",
        "colab_type": "text"
      },
      "source": [
        "The accuracy of knn classifier on the dataset with uppercase letters as separate classes. Number of nearest neighbours is taken as 2 using the previous experience with Russian alphabet."
      ]
    },
    {
      "cell_type": "code",
      "metadata": {
        "id": "VLo_95A3zNsf",
        "colab_type": "code",
        "colab": {
          "base_uri": "https://localhost:8080/",
          "height": 34
        },
        "outputId": "1e6a973f-4a63-4c97-ea9b-bba4387a1382"
      },
      "source": [
        "knn_clf_up = neighbors.KNeighborsClassifier(n_neighbors=2, weights='distance')\n",
        "scores = cross_val_score(knn_clf_up, eng_data_up, eng_labels_up, cv=5)\n",
        "\n",
        "print(\"Accuracy: %0.2f (+/- %0.2f)\" % (scores.mean(), scores.std() * 2))"
      ],
      "execution_count": 156,
      "outputs": [
        {
          "output_type": "stream",
          "text": [
            "Accuracy: 0.75 (+/- 0.11)\n"
          ],
          "name": "stdout"
        }
      ]
    },
    {
      "cell_type": "markdown",
      "metadata": {
        "id": "eKPrgeFP9f-f",
        "colab_type": "text"
      },
      "source": [
        "Accuracy: 0.75 (+/- 0.11). As expected, it is less than SVM with 0.84\n",
        "\n",
        "The accuracy of knn classifier on the dataset without uppercase letters as separate classes:"
      ]
    },
    {
      "cell_type": "code",
      "metadata": {
        "id": "CMo8KYzzz5EP",
        "colab_type": "code",
        "colab": {
          "base_uri": "https://localhost:8080/",
          "height": 34
        },
        "outputId": "f519356f-ac64-4cfe-eea5-2318e7be6e12"
      },
      "source": [
        "knn_clf_no_up = neighbors.KNeighborsClassifier(n_neighbors=2, weights='distance')\n",
        "scores = cross_val_score(knn_clf_no_up, eng_data_no_up, eng_labels_no_up, cv=5)\n",
        "\n",
        "print(\"Accuracy: %0.2f (+/- %0.2f)\" % (scores.mean(), scores.std() * 2))"
      ],
      "execution_count": 157,
      "outputs": [
        {
          "output_type": "stream",
          "text": [
            "Accuracy: 0.85 (+/- 0.06)\n"
          ],
          "name": "stdout"
        }
      ]
    },
    {
      "cell_type": "markdown",
      "metadata": {
        "id": "OLPu7y4F-KJc",
        "colab_type": "text"
      },
      "source": [
        "Accuracy: 0.85 (+/- 0.06)"
      ]
    },
    {
      "cell_type": "markdown",
      "metadata": {
        "id": "eUztesa8-yfs",
        "colab_type": "text"
      },
      "source": [
        "## 1.3 Results\n",
        "\n",
        "with uppercase classes:\n",
        "\n",
        "SVM 0.84 (+/- 0.07)\n",
        "\n",
        "KNN 0.75 (+/- 0.11)\n",
        "\n",
        "without uppercase classes:\n",
        "\n",
        "SVM 0.91 (+/- 0.05)\n",
        "\n",
        "KNN 0.85 (+/- 0.06)"
      ]
    },
    {
      "cell_type": "markdown",
      "metadata": {
        "id": "EPRongQgdhFz",
        "colab_type": "text"
      },
      "source": [
        "Task 2: Handwritten notes"
      ]
    },
    {
      "cell_type": "code",
      "metadata": {
        "id": "2zp5pAIPd4Cq",
        "colab_type": "code",
        "colab": {}
      },
      "source": [
        ""
      ],
      "execution_count": 0,
      "outputs": []
    },
    {
      "cell_type": "markdown",
      "metadata": {
        "id": "se9C8Qijd4p9",
        "colab_type": "text"
      },
      "source": [
        "Task 3: Signature recognition"
      ]
    },
    {
      "cell_type": "code",
      "metadata": {
        "id": "SkE13OQcW1o2",
        "colab_type": "code",
        "colab": {}
      },
      "source": [
        ""
      ],
      "execution_count": 0,
      "outputs": []
    }
  ]
}