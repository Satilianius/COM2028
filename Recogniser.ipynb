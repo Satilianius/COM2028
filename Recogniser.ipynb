{
  "nbformat": 4,
  "nbformat_minor": 0,
  "metadata": {
    "colab": {
      "name": "Recogniser.ipynb",
      "provenance": [],
      "authorship_tag": "ABX9TyOM83u1Sm7oTlDeAdA045PP",
      "include_colab_link": true
    },
    "kernelspec": {
      "name": "python3",
      "display_name": "Python 3"
    }
  },
  "cells": [
    {
      "cell_type": "markdown",
      "metadata": {
        "id": "view-in-github",
        "colab_type": "text"
      },
      "source": [
        "<a href=\"https://colab.research.google.com/github/Satilianius/COM2028/blob/master/Recogniser.ipynb\" target=\"_parent\"><img src=\"https://colab.research.google.com/assets/colab-badge.svg\" alt=\"Open In Colab\"/></a>"
      ]
    },
    {
      "cell_type": "markdown",
      "metadata": {
        "id": "bHMU_9-TdiAg",
        "colab_type": "text"
      },
      "source": [
        "Task1: Recognising printed pages for multiple languages"
      ]
    },
    {
      "cell_type": "code",
      "metadata": {
        "id": "W7v1VwvYdbSI",
        "colab_type": "code",
        "colab": {}
      },
      "source": [
        ""
      ],
      "execution_count": 0,
      "outputs": []
    },
    {
      "cell_type": "markdown",
      "metadata": {
        "id": "EPRongQgdhFz",
        "colab_type": "text"
      },
      "source": [
        "Task2: Handwritten notes"
      ]
    },
    {
      "cell_type": "code",
      "metadata": {
        "id": "2zp5pAIPd4Cq",
        "colab_type": "code",
        "colab": {}
      },
      "source": [
        ""
      ],
      "execution_count": 0,
      "outputs": []
    },
    {
      "cell_type": "markdown",
      "metadata": {
        "id": "se9C8Qijd4p9",
        "colab_type": "text"
      },
      "source": [
        "Task3: Signature recognition"
      ]
    }
  ]
}